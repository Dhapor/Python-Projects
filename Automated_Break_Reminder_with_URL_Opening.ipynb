{
  "nbformat": 4,
  "nbformat_minor": 0,
  "metadata": {
    "colab": {
      "provenance": [],
      "authorship_tag": "ABX9TyM10m6srO8QEwmXp3nbOUh0",
      "include_colab_link": true
    },
    "kernelspec": {
      "name": "python3",
      "display_name": "Python 3"
    },
    "language_info": {
      "name": "python"
    }
  },
  "cells": [
    {
      "cell_type": "markdown",
      "metadata": {
        "id": "view-in-github",
        "colab_type": "text"
      },
      "source": [
        "<a href=\"https://colab.research.google.com/github/Dhapor/Python-Projects/blob/main/Automated_Break_Reminder_with_URL_Opening.ipynb\" target=\"_parent\"><img src=\"https://colab.research.google.com/assets/colab-badge.svg\" alt=\"Open In Colab\"/></a>"
      ]
    },
    {
      "cell_type": "markdown",
      "source": [
        "# Automated Break Reminder with URL Opening\n",
        "\n",
        "## Description\n",
        "This Python script is a simple program designed to remind users to take breaks at regular intervals. It opens a specified URL in the default web browser as a prompt for the user to take a break. The script uses a `while` loop to repeat the process a set number of times, pausing for a fixed duration between reminders.\n",
        "\n",
        "## Features\n",
        "- Automatically opens a specified web page after a defined interval.\n",
        "- Tracks the number of breaks taken.\n",
        "- Provides a timestamp for when the program starts.\n",
        "\n",
        "## Note\n",
        "**This script should be run on a local machine.** The `webbrowser.open()` functionality does not work as intended in environments like Google Colab because Colab does not have direct access to your local web browser.\n",
        "\n",
        "## Use Case\n",
        "This script is ideal for individuals who work long hours and need periodic reminders to take breaks. The URL could lead to a motivational video, relaxation guide, or any preferred resource.\n",
        "\n",
        "\n"
      ],
      "metadata": {
        "id": "Uu9Z-FfUOSb0"
      }
    },
    {
      "cell_type": "code",
      "source": [
        "import webbrowser\n",
        "import time\n",
        "\n",
        "total_breaks = 3\n",
        "break_count = 0\n",
        "\n",
        "print(f\"This program started on {time.ctime()}\")\n",
        "while(break_count < total_breaks):\n",
        "    time.sleep(2)\n",
        "    webbrowser.open(\"https://youtu.be/gs8qfL9PNac?si=L5GhezI-imPAA9_V\")\n",
        "    break_count += 1"
      ],
      "metadata": {
        "colab": {
          "base_uri": "https://localhost:8080/"
        },
        "id": "_HQIscbVLoHN",
        "outputId": "4ac8ad14-6879-4a55-ad4f-0f84e072e66e"
      },
      "execution_count": 15,
      "outputs": [
        {
          "output_type": "stream",
          "name": "stdout",
          "text": [
            "This program started on Sun Dec 22 16:29:41 2024\n"
          ]
        }
      ]
    }
  ]
}